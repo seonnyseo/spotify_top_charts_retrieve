{
  "nbformat": 4,
  "nbformat_minor": 0,
  "metadata": {
    "colab": {
      "name": "DSCI_511_Group3_Final_Code.ipynb",
      "provenance": [],
      "collapsed_sections": [],
      "machine_shape": "hm"
    },
    "kernelspec": {
      "display_name": "Python 3",
      "language": "python",
      "name": "python3"
    },
    "language_info": {
      "codemirror_mode": {
        "name": "ipython",
        "version": 3
      },
      "file_extension": ".py",
      "mimetype": "text/x-python",
      "name": "python",
      "nbconvert_exporter": "python",
      "pygments_lexer": "ipython3",
      "version": "3.7.1"
    }
  },
  "cells": [
    {
      "cell_type": "code",
      "metadata": {
        "colab_type": "code",
        "id": "yYCySbg2lXpm",
        "outputId": "730afa66-203c-46ab-be78-59eafd15ab27",
        "colab": {
          "base_uri": "https://localhost:8080/",
          "height": 255
        }
      },
      "source": [
        "# Install Spotipy, which is a python 3rd party library helps connect to Spotify web API\n",
        "!pip3 install spotipy"
      ],
      "execution_count": 0,
      "outputs": [
        {
          "output_type": "stream",
          "text": [
            "Collecting spotipy\n",
            "  Downloading https://files.pythonhosted.org/packages/59/46/3c957255c96910a8a0e2d9c25db1de51a8676ebba01d7966bedc6e748822/spotipy-2.4.4.tar.gz\n",
            "Requirement already satisfied: requests>=1.0 in /usr/local/lib/python3.6/dist-packages (from spotipy) (2.21.0)\n",
            "Requirement already satisfied: urllib3<1.25,>=1.21.1 in /usr/local/lib/python3.6/dist-packages (from requests>=1.0->spotipy) (1.24.3)\n",
            "Requirement already satisfied: certifi>=2017.4.17 in /usr/local/lib/python3.6/dist-packages (from requests>=1.0->spotipy) (2019.9.11)\n",
            "Requirement already satisfied: idna<2.9,>=2.5 in /usr/local/lib/python3.6/dist-packages (from requests>=1.0->spotipy) (2.8)\n",
            "Requirement already satisfied: chardet<3.1.0,>=3.0.2 in /usr/local/lib/python3.6/dist-packages (from requests>=1.0->spotipy) (3.0.4)\n",
            "Building wheels for collected packages: spotipy\n",
            "  Building wheel for spotipy (setup.py) ... \u001b[?25l\u001b[?25hdone\n",
            "  Created wheel for spotipy: filename=spotipy-2.4.4-cp36-none-any.whl size=12336 sha256=91c093da6dc5563c5ef31a5ba8ccdcb4ab7538542d13fe89ddea4226f9785d4c\n",
            "  Stored in directory: /root/.cache/pip/wheels/76/28/19/a86ca9bb0e32dbd4a4f580870250f5aeef852870578e0427e6\n",
            "Successfully built spotipy\n",
            "Installing collected packages: spotipy\n",
            "Successfully installed spotipy-2.4.4\n"
          ],
          "name": "stdout"
        }
      ]
    },
    {
      "cell_type": "code",
      "metadata": {
        "colab_type": "code",
        "id": "gJo-tMTVlQYV",
        "colab": {}
      },
      "source": [
        "import spotipy\n",
        "import spotipy.util as util\n",
        "from spotipy.oauth2 import SpotifyClientCredentials"
      ],
      "execution_count": 0,
      "outputs": []
    },
    {
      "cell_type": "markdown",
      "metadata": {
        "colab_type": "text",
        "id": "basu4_sPl5LM"
      },
      "source": [
        "#### Authorization\n",
        "To connect to Spotify API, it requires you to have authorization.\n",
        "Please Check README for it."
      ]
    },
    {
      "cell_type": "code",
      "metadata": {
        "colab_type": "code",
        "id": "aG9EWpqglz0t",
        "colab": {}
      },
      "source": [
        "username = '12977977'\n",
        "scope = 'user-read-private'\n",
        "\n",
        "client_id = '5fd7312f2d4348a196322a692ae3dd30'\n",
        "client_secret = '8868bbd27bc845fd8bbce969996941af'"
      ],
      "execution_count": 0,
      "outputs": []
    },
    {
      "cell_type": "code",
      "metadata": {
        "colab_type": "code",
        "id": "RAUcHvOZlkVX",
        "colab": {}
      },
      "source": [
        "client_credentials_manager = SpotifyClientCredentials(client_id = client_id, client_secret = client_secret)\n",
        "spotify = spotipy.Spotify(client_credentials_manager = client_credentials_manager)"
      ],
      "execution_count": 0,
      "outputs": []
    },
    {
      "cell_type": "markdown",
      "metadata": {
        "colab_type": "text",
        "id": "i-qRGc_ymBEf"
      },
      "source": [
        "Get Country List"
      ]
    },
    {
      "cell_type": "code",
      "metadata": {
        "colab_type": "code",
        "id": "UQnvyQnPmAWd",
        "outputId": "c01acd28-659d-432b-979d-9e23f09bd950",
        "colab": {
          "base_uri": "https://localhost:8080/",
          "height": 51
        }
      },
      "source": [
        "# Install BeautifulSoup\n",
        "!pip3 install bs4"
      ],
      "execution_count": 0,
      "outputs": [
        {
          "output_type": "stream",
          "text": [
            "Requirement already satisfied: bs4 in /usr/local/lib/python3.6/dist-packages (0.0.1)\n",
            "Requirement already satisfied: beautifulsoup4 in /usr/local/lib/python3.6/dist-packages (from bs4) (4.6.3)\n"
          ],
          "name": "stdout"
        }
      ]
    },
    {
      "cell_type": "code",
      "metadata": {
        "colab_type": "code",
        "id": "_FpyZvX5lnEl",
        "colab": {}
      },
      "source": [
        "from bs4 import BeautifulSoup\n",
        "import requests\n",
        "import re\n",
        "from pprint import pprint"
      ],
      "execution_count": 0,
      "outputs": []
    },
    {
      "cell_type": "code",
      "metadata": {
        "colab_type": "code",
        "id": "anBOGb-kukIq",
        "colab": {}
      },
      "source": [
        "def get_available_countries():\n",
        "    \"\"\"\n",
        "    Crawling names of countries that are available to use Spotify.\n",
        "    Name of countries are nested in the Name of Continent.\n",
        "    \n",
        "    Input: None\n",
        "    Output: A Dictionary of Continent:Country names\n",
        "            {continent : [country, country, ...]}\n",
        "    \"\"\"\n",
        "    url = \"https://support.spotify.com/us/using_spotify/the_basics/full-list-of-territories-where-spotify-is-available/\"\n",
        "    html = requests.get(url).text\n",
        "\n",
        "    soup = BeautifulSoup(html, 'html.parser')\n",
        "\n",
        "    # available_countries[continent] = [country, country, country]\n",
        "    available_countries = {}\n",
        "    target_tags = soup.find_all(['td'])\n",
        "    for tag in target_tags:\n",
        "        countries = re.findall('[\\w\\s]+(?=[.,])', tag.text)\n",
        "        if countries:\n",
        "            countries = [country.lstrip() for country in countries]\n",
        "            available_countries[continent] = countries\n",
        "        else:\n",
        "            continent = tag.text\n",
        "\n",
        "    return available_countries"
      ],
      "execution_count": 0,
      "outputs": []
    },
    {
      "cell_type": "code",
      "metadata": {
        "colab_type": "code",
        "id": "cHrIev3UREWV",
        "colab": {}
      },
      "source": [
        "def collect_chart_ids(available_countries):\n",
        "    \"\"\"\n",
        "    Collect playlist ids through Spotify API\n",
        "    \n",
        "    Input: A Dictionary of {continent: [country, country...], ....}\n",
        "    Output: A tuple of ((continent, country, playlist_id), ...)\n",
        "    \"\"\"\n",
        "    chart_ids = []\n",
        "    for continent in available_countries.keys():\n",
        "        countries = available_countries[continent]\n",
        "    \n",
        "        for country in countries:\n",
        "            playlist_name = country + ' Top 50'\n",
        "            playlists = spotify.search(q = playlist_name, type = 'playlist')\n",
        "            for playlist in playlists['playlists']['items']:\n",
        "                \n",
        "                # If not Spotify Official playlist\n",
        "                if playlist['owner']['display_name'] != 'spotifycharts':\n",
        "                    continue\n",
        "                # If not Top 50 ex) Viral 50\n",
        "                if playlist['name'] != playlist_name:\n",
        "                    continue\n",
        "                \n",
        "                chart_ids.append((continent, country, playlist['id']))\n",
        "\n",
        "    return chart_ids                "
      ],
      "execution_count": 0,
      "outputs": []
    },
    {
      "cell_type": "code",
      "metadata": {
        "colab_type": "code",
        "id": "kIeaTVIhJjp_",
        "colab": {}
      },
      "source": [
        "def collect_chart(continent, country, tracks):\n",
        "    \"\"\"\n",
        "    Picking out only required information from track information\n",
        "    \n",
        "    Input: continent(String), country(String), tracks(json)\n",
        "    Output: A list of dictionary that contains track information\n",
        "            [{'continent':, 'country': , 'rank': , 'song': , 'artist': , ...}, ]\n",
        "    \"\"\"\n",
        "    track_infos = []\n",
        "    for idx, track in enumerate(tracks['items'], 1):\n",
        "        track_info = {'continent': '', 'country' : '', 'rank': 0, 'song' : '', 'artist' : '', 'album' : '', 'song_id': '', 'artist_id': '', 'album_id': '', 'release_data': '', 'song_popularity' : 0, 'date': ''}\n",
        "\n",
        "        track_info['rank'] = idx\n",
        "\n",
        "        track_info['continent'] = continent\n",
        "        track_info['country'] = country\n",
        "\n",
        "        track_info['song'] = track['track']['name']\n",
        "        track_info['song_id'] = track['track']['id']\n",
        "        track_info['song_popularity'] = track['track']['popularity']\n",
        "\n",
        "        track_info['album'] = track['track']['album']['name']\n",
        "        track_info['album_id'] = track['track']['album']['id']\n",
        "        \n",
        "        try:\n",
        "            track_info['release_date'] = datetime.strptime(track['track']['album']['release_date'], '%Y-%m-%d')\n",
        "        except:\n",
        "            track_info['release_date'] = datetime.strptime(track['track']['album']['release_date'], '%Y')\n",
        "\n",
        "        track_info['artist'] = track['track']['artists'][0]['name']\n",
        "        track_info['artist_id'] = track['track']['artists'][0]['id']\n",
        "\n",
        "        track_info['date'] = date.today()\n",
        "        track_infos.append(track_info)\n",
        "\n",
        "    return track_infos"
      ],
      "execution_count": 0,
      "outputs": []
    },
    {
      "cell_type": "code",
      "metadata": {
        "colab_type": "code",
        "id": "FTaFRvmKmQnW",
        "colab": {}
      },
      "source": [
        "def playlist_track(self, playlist_id):\n",
        "    \"\"\" \n",
        "    returns a single artist given the artist's ID, URI or URL\n",
        "    \n",
        "    Input: a list of playlist_ids [id, id, id...]\n",
        "    output: json format track description\n",
        "    \"\"\"\n",
        "    return self._get('playlists/' + playlist_id + '/tracks')"
      ],
      "execution_count": 0,
      "outputs": []
    },
    {
      "cell_type": "code",
      "metadata": {
        "colab_type": "code",
        "id": "rZqfni33uygi",
        "colab": {}
      },
      "source": [
        "import types\n",
        "spotify.playlist_track = types.MethodType(playlist_track, spotify)"
      ],
      "execution_count": 0,
      "outputs": []
    },
    {
      "cell_type": "markdown",
      "metadata": {
        "id": "ou_MDjZMyfqq",
        "colab_type": "text"
      },
      "source": [
        "#### Collect Country names and playlist ids"
      ]
    },
    {
      "cell_type": "code",
      "metadata": {
        "colab_type": "code",
        "id": "parXxqjHeuJk",
        "colab": {}
      },
      "source": [
        "import pandas as pd\n",
        "from datetime import date, datetime"
      ],
      "execution_count": 0,
      "outputs": []
    },
    {
      "cell_type": "code",
      "metadata": {
        "colab_type": "code",
        "id": "ZM0KHpxZVjsh",
        "colab": {}
      },
      "source": [
        "available_countries = get_available_countries()\n",
        "\n",
        "#chart_ids = [(continent, country, playlist_id), ...]\n",
        "chart_ids = collect_chart_ids(available_countries)"
      ],
      "execution_count": 0,
      "outputs": []
    },
    {
      "cell_type": "code",
      "metadata": {
        "colab_type": "code",
        "id": "MJCQ6UgmyQmT",
        "colab": {}
      },
      "source": [
        "_columns = ['continent', 'country', 'rank', 'song', 'artist', 'album', 'release_date', 'song_popularity', 'song_id', 'artist_id', 'album_id', 'date']\n",
        "\n",
        "global_chart = pd.DataFrame(columns = _columns)\n",
        "\n",
        "\"\"\"\n",
        "for loop below COLLECTs tracks information of each country and\n",
        "MERGEs it into global_chart dataframe\n",
        "\"\"\"\n",
        "\n",
        "for (continent, country, playlist_id) in chart_ids:\n",
        "    \n",
        "    tracks = spotify.playlist_track(playlist_id)\n",
        "    dict_country_chart = collect_chart(continent, country, tracks)\n",
        "    \n",
        "    country_chart = pd.DataFrame(dict_country_chart, columns = _columns)\n",
        "    global_chart = pd.concat([global_chart, country_chart], ignore_index = True)"
      ],
      "execution_count": 0,
      "outputs": []
    },
    {
      "cell_type": "code",
      "metadata": {
        "colab_type": "code",
        "id": "IvtZC-bs0vSy",
        "outputId": "d6d3ccfa-f5fa-4dbf-e726-a9444a71fc0a",
        "colab": {
          "base_uri": "https://localhost:8080/",
          "height": 309
        }
      },
      "source": [
        "global_chart[global_chart['country'] == 'United States'].head(5)"
      ],
      "execution_count": 0,
      "outputs": [
        {
          "output_type": "execute_result",
          "data": {
            "text/html": [
              "<div>\n",
              "<style scoped>\n",
              "    .dataframe tbody tr th:only-of-type {\n",
              "        vertical-align: middle;\n",
              "    }\n",
              "\n",
              "    .dataframe tbody tr th {\n",
              "        vertical-align: top;\n",
              "    }\n",
              "\n",
              "    .dataframe thead th {\n",
              "        text-align: right;\n",
              "    }\n",
              "</style>\n",
              "<table border=\"1\" class=\"dataframe\">\n",
              "  <thead>\n",
              "    <tr style=\"text-align: right;\">\n",
              "      <th></th>\n",
              "      <th>continent</th>\n",
              "      <th>country</th>\n",
              "      <th>rank</th>\n",
              "      <th>song</th>\n",
              "      <th>artist</th>\n",
              "      <th>album</th>\n",
              "      <th>release_date</th>\n",
              "      <th>song_popularity</th>\n",
              "      <th>song_id</th>\n",
              "      <th>artist_id</th>\n",
              "      <th>album_id</th>\n",
              "      <th>date</th>\n",
              "    </tr>\n",
              "  </thead>\n",
              "  <tbody>\n",
              "    <tr>\n",
              "      <th>2500</th>\n",
              "      <td>North America</td>\n",
              "      <td>United States</td>\n",
              "      <td>1</td>\n",
              "      <td>Heartless</td>\n",
              "      <td>The Weeknd</td>\n",
              "      <td>Heartless</td>\n",
              "      <td>2019-11-27</td>\n",
              "      <td>91</td>\n",
              "      <td>57vxBYXtHMk6H1aD29V7PU</td>\n",
              "      <td>1Xyo4u8uXC1ZmMpatF05PJ</td>\n",
              "      <td>7vRcickwa6GCfY1qKKe4lK</td>\n",
              "      <td>2019-12-03</td>\n",
              "    </tr>\n",
              "    <tr>\n",
              "      <th>2501</th>\n",
              "      <td>North America</td>\n",
              "      <td>United States</td>\n",
              "      <td>2</td>\n",
              "      <td>ROXANNE</td>\n",
              "      <td>Arizona Zervas</td>\n",
              "      <td>ROXANNE</td>\n",
              "      <td>2019-10-10</td>\n",
              "      <td>95</td>\n",
              "      <td>696DnlkuDOXcMAnKlTgXXK</td>\n",
              "      <td>0vRvGUQVUjytro0xpb26bs</td>\n",
              "      <td>6HJDrXs0hpebaRFKA1sF90</td>\n",
              "      <td>2019-12-03</td>\n",
              "    </tr>\n",
              "    <tr>\n",
              "      <th>2502</th>\n",
              "      <td>North America</td>\n",
              "      <td>United States</td>\n",
              "      <td>3</td>\n",
              "      <td>Blinding Lights</td>\n",
              "      <td>The Weeknd</td>\n",
              "      <td>Blinding Lights</td>\n",
              "      <td>2019-11-29</td>\n",
              "      <td>83</td>\n",
              "      <td>0sf12qNH5qcw8qpgymFOqD</td>\n",
              "      <td>1Xyo4u8uXC1ZmMpatF05PJ</td>\n",
              "      <td>2ZfHkwHuoAZrlz7RMj0PDz</td>\n",
              "      <td>2019-12-03</td>\n",
              "    </tr>\n",
              "    <tr>\n",
              "      <th>2503</th>\n",
              "      <td>North America</td>\n",
              "      <td>United States</td>\n",
              "      <td>4</td>\n",
              "      <td>Circles</td>\n",
              "      <td>Post Malone</td>\n",
              "      <td>Hollywood's Bleeding</td>\n",
              "      <td>2019-09-06</td>\n",
              "      <td>99</td>\n",
              "      <td>21jGcNKet2qwijlDFuPiPb</td>\n",
              "      <td>246dkjvS1zLTtiykXe5h60</td>\n",
              "      <td>4g1ZRSobMefqF6nelkgibi</td>\n",
              "      <td>2019-12-03</td>\n",
              "    </tr>\n",
              "    <tr>\n",
              "      <th>2504</th>\n",
              "      <td>North America</td>\n",
              "      <td>United States</td>\n",
              "      <td>5</td>\n",
              "      <td>everything i wanted</td>\n",
              "      <td>Billie Eilish</td>\n",
              "      <td>everything i wanted</td>\n",
              "      <td>2019-11-13</td>\n",
              "      <td>97</td>\n",
              "      <td>3ZCTVFBt2Brf31RLEnCkWJ</td>\n",
              "      <td>6qqNVTkY8uBg9cP3Jd7DAH</td>\n",
              "      <td>4i3rAwPw7Ln2YrKDusaWyT</td>\n",
              "      <td>2019-12-03</td>\n",
              "    </tr>\n",
              "  </tbody>\n",
              "</table>\n",
              "</div>"
            ],
            "text/plain": [
              "          continent        country  ...                album_id        date\n",
              "2500  North America  United States  ...  7vRcickwa6GCfY1qKKe4lK  2019-12-03\n",
              "2501  North America  United States  ...  6HJDrXs0hpebaRFKA1sF90  2019-12-03\n",
              "2502  North America  United States  ...  2ZfHkwHuoAZrlz7RMj0PDz  2019-12-03\n",
              "2503  North America  United States  ...  4g1ZRSobMefqF6nelkgibi  2019-12-03\n",
              "2504  North America  United States  ...  4i3rAwPw7Ln2YrKDusaWyT  2019-12-03\n",
              "\n",
              "[5 rows x 12 columns]"
            ]
          },
          "metadata": {
            "tags": []
          },
          "execution_count": 15
        }
      ]
    },
    {
      "cell_type": "code",
      "metadata": {
        "colab_type": "code",
        "id": "ZU6AIi8XSlIv",
        "outputId": "52508826-5d0e-40e5-cd9a-b43cc22b95c6",
        "colab": {
          "base_uri": "https://localhost:8080/",
          "height": 309
        }
      },
      "source": [
        "global_chart.head(5)"
      ],
      "execution_count": 0,
      "outputs": [
        {
          "output_type": "execute_result",
          "data": {
            "text/html": [
              "<div>\n",
              "<style scoped>\n",
              "    .dataframe tbody tr th:only-of-type {\n",
              "        vertical-align: middle;\n",
              "    }\n",
              "\n",
              "    .dataframe tbody tr th {\n",
              "        vertical-align: top;\n",
              "    }\n",
              "\n",
              "    .dataframe thead th {\n",
              "        text-align: right;\n",
              "    }\n",
              "</style>\n",
              "<table border=\"1\" class=\"dataframe\">\n",
              "  <thead>\n",
              "    <tr style=\"text-align: right;\">\n",
              "      <th></th>\n",
              "      <th>continent</th>\n",
              "      <th>country</th>\n",
              "      <th>rank</th>\n",
              "      <th>song</th>\n",
              "      <th>artist</th>\n",
              "      <th>album</th>\n",
              "      <th>release_date</th>\n",
              "      <th>song_popularity</th>\n",
              "      <th>song_id</th>\n",
              "      <th>artist_id</th>\n",
              "      <th>album_id</th>\n",
              "      <th>date</th>\n",
              "    </tr>\n",
              "  </thead>\n",
              "  <tbody>\n",
              "    <tr>\n",
              "      <th>0</th>\n",
              "      <td>Africa</td>\n",
              "      <td>South Africa</td>\n",
              "      <td>1</td>\n",
              "      <td>Dance Monkey</td>\n",
              "      <td>Tones and I</td>\n",
              "      <td>Dance Monkey</td>\n",
              "      <td>2019-05-10</td>\n",
              "      <td>81</td>\n",
              "      <td>1rgnBhdG2JDFTbYkYRZAku</td>\n",
              "      <td>2NjfBq1NflQcKSeiDooVjY</td>\n",
              "      <td>31IDBea3eEs57a0joX6TjN</td>\n",
              "      <td>2019-12-03</td>\n",
              "    </tr>\n",
              "    <tr>\n",
              "      <th>1</th>\n",
              "      <td>Africa</td>\n",
              "      <td>South Africa</td>\n",
              "      <td>2</td>\n",
              "      <td>Circles</td>\n",
              "      <td>Post Malone</td>\n",
              "      <td>Hollywood's Bleeding</td>\n",
              "      <td>2019-09-06</td>\n",
              "      <td>99</td>\n",
              "      <td>21jGcNKet2qwijlDFuPiPb</td>\n",
              "      <td>246dkjvS1zLTtiykXe5h60</td>\n",
              "      <td>4g1ZRSobMefqF6nelkgibi</td>\n",
              "      <td>2019-12-03</td>\n",
              "    </tr>\n",
              "    <tr>\n",
              "      <th>2</th>\n",
              "      <td>Africa</td>\n",
              "      <td>South Africa</td>\n",
              "      <td>3</td>\n",
              "      <td>Memories</td>\n",
              "      <td>Maroon 5</td>\n",
              "      <td>Memories</td>\n",
              "      <td>2019-09-20</td>\n",
              "      <td>100</td>\n",
              "      <td>2b8fOow8UzyDFAE27YhOZM</td>\n",
              "      <td>04gDigrS5kc9YWfZHwBETP</td>\n",
              "      <td>3nR9B40hYLKLcR0Eph3Goc</td>\n",
              "      <td>2019-12-03</td>\n",
              "    </tr>\n",
              "    <tr>\n",
              "      <th>3</th>\n",
              "      <td>Africa</td>\n",
              "      <td>South Africa</td>\n",
              "      <td>4</td>\n",
              "      <td>ROXANNE</td>\n",
              "      <td>Arizona Zervas</td>\n",
              "      <td>ROXANNE</td>\n",
              "      <td>2019-10-10</td>\n",
              "      <td>95</td>\n",
              "      <td>696DnlkuDOXcMAnKlTgXXK</td>\n",
              "      <td>0vRvGUQVUjytro0xpb26bs</td>\n",
              "      <td>6HJDrXs0hpebaRFKA1sF90</td>\n",
              "      <td>2019-12-03</td>\n",
              "    </tr>\n",
              "    <tr>\n",
              "      <th>4</th>\n",
              "      <td>Africa</td>\n",
              "      <td>South Africa</td>\n",
              "      <td>5</td>\n",
              "      <td>Heartless</td>\n",
              "      <td>The Weeknd</td>\n",
              "      <td>Heartless</td>\n",
              "      <td>2019-11-27</td>\n",
              "      <td>91</td>\n",
              "      <td>57vxBYXtHMk6H1aD29V7PU</td>\n",
              "      <td>1Xyo4u8uXC1ZmMpatF05PJ</td>\n",
              "      <td>7vRcickwa6GCfY1qKKe4lK</td>\n",
              "      <td>2019-12-03</td>\n",
              "    </tr>\n",
              "  </tbody>\n",
              "</table>\n",
              "</div>"
            ],
            "text/plain": [
              "  continent       country  ...                album_id        date\n",
              "0    Africa  South Africa  ...  31IDBea3eEs57a0joX6TjN  2019-12-03\n",
              "1    Africa  South Africa  ...  4g1ZRSobMefqF6nelkgibi  2019-12-03\n",
              "2    Africa  South Africa  ...  3nR9B40hYLKLcR0Eph3Goc  2019-12-03\n",
              "3    Africa  South Africa  ...  6HJDrXs0hpebaRFKA1sF90  2019-12-03\n",
              "4    Africa  South Africa  ...  7vRcickwa6GCfY1qKKe4lK  2019-12-03\n",
              "\n",
              "[5 rows x 12 columns]"
            ]
          },
          "metadata": {
            "tags": []
          },
          "execution_count": 16
        }
      ]
    },
    {
      "cell_type": "code",
      "metadata": {
        "colab_type": "code",
        "id": "rTKiccVS8oH4",
        "colab": {}
      },
      "source": [
        "def return_ids(requested_type, limits):\n",
        "    \"\"\"\n",
        "    A generator that returns requested data(ids) in 50 pieces (Spotify API limits 50 ids per request)\n",
        "    \n",
        "    Input: requested_type(string), name of columns  ex) 'song_id', 'artist_id', 'album_id'\n",
        "           limits(input), number of items returns each time  ex) 50, 20 \n",
        "    Output: A list of collected ids ['id', 'id', 'id']\n",
        "    \"\"\"\n",
        "    ids = []\n",
        "    for idx, song_id in enumerate((x for x in global_chart[requested_type].tolist()), 1):\n",
        "        ids.append(song_id)\n",
        "        if idx % limits == 0:\n",
        "            yield ids\n",
        "            ids.clear()\n",
        "\n",
        "    if len(ids):\n",
        "        yield ids"
      ],
      "execution_count": 0,
      "outputs": []
    },
    {
      "cell_type": "code",
      "metadata": {
        "colab_type": "code",
        "id": "6InWSJGi2wKj",
        "colab": {}
      },
      "source": [
        "#### Collect song information"
      ],
      "execution_count": 0,
      "outputs": []
    },
    {
      "cell_type": "code",
      "metadata": {
        "colab_type": "code",
        "id": "CscfXgQxgrY-",
        "outputId": "dddf6c54-870c-434b-9b01-cc6a8d320938",
        "colab": {
          "base_uri": "https://localhost:8080/",
          "height": 238
        }
      },
      "source": [
        "_columns = ['song_id', 'acousticness', 'danceability', 'energy', 'instrumentalness', 'liveness', 'loudness', 'speechiness', 'valence']\n",
        "songs_df = pd.DataFrame(columns = _columns)\n",
        "\n",
        "\"\"\"\n",
        "for loop below COLLECTs songs information \n",
        "MERGEs it into songs_df dataframe\n",
        "\"\"\"\n",
        "\n",
        "for x in return_ids('song_id', 50):\n",
        "    \n",
        "    songs_features = []\n",
        "    song_infos = spotify.audio_features(x)\n",
        "    \n",
        "    for idx, song_info in enumerate(song_infos):\n",
        "        #print(idx,song_info)\n",
        "        song_features = {'song_id': '', 'acousticness': None, 'danceability': None, 'energy': None, 'instrumentalness': None, 'liveness': None, 'loudness': None, 'speechiness': None, 'valence': None}\n",
        "\n",
        "        try:        \n",
        "            song_features['song_id'] = song_info['id']\n",
        "            song_features['acousticness'] = song_info['acousticness']\n",
        "            song_features['danceability'] = song_info['danceability']\n",
        "            song_features['energy'] = song_info['energy']\n",
        "            song_features['instrumentalness'] = song_info['instrumentalness']\n",
        "            song_features['liveness'] = song_info['liveness']\n",
        "            song_features['loudness'] = song_info['loudness']\n",
        "            song_features['speechiness'] = song_info['speechiness']\n",
        "            song_features['valence'] = song_info['valence']\n",
        "        except:\n",
        "            \"\"\"\n",
        "            Some of songs do not have analysis data yet, so put Nan first.\n",
        "            But keeping song_id.\n",
        "            \n",
        "            Checked no feature analysis data from Spotify API\n",
        "            \"\"\"\n",
        "            song_features['song_id'] = x[idx]\n",
        "\n",
        "        songs_features.append(song_features)\n",
        "    \n",
        "    temp_songs_df = pd.DataFrame(songs_features, columns = _columns)\n",
        "    songs_df = pd.concat([songs_df, temp_songs_df], ignore_index = True)\n",
        "songs_df.head(5)"
      ],
      "execution_count": 0,
      "outputs": [
        {
          "output_type": "stream",
          "text": [
            "retrying ...1secs\n",
            "retrying ...1secs\n"
          ],
          "name": "stdout"
        },
        {
          "output_type": "execute_result",
          "data": {
            "text/html": [
              "<div>\n",
              "<style scoped>\n",
              "    .dataframe tbody tr th:only-of-type {\n",
              "        vertical-align: middle;\n",
              "    }\n",
              "\n",
              "    .dataframe tbody tr th {\n",
              "        vertical-align: top;\n",
              "    }\n",
              "\n",
              "    .dataframe thead th {\n",
              "        text-align: right;\n",
              "    }\n",
              "</style>\n",
              "<table border=\"1\" class=\"dataframe\">\n",
              "  <thead>\n",
              "    <tr style=\"text-align: right;\">\n",
              "      <th></th>\n",
              "      <th>song_id</th>\n",
              "      <th>acousticness</th>\n",
              "      <th>danceability</th>\n",
              "      <th>energy</th>\n",
              "      <th>instrumentalness</th>\n",
              "      <th>liveness</th>\n",
              "      <th>loudness</th>\n",
              "      <th>speechiness</th>\n",
              "      <th>valence</th>\n",
              "    </tr>\n",
              "  </thead>\n",
              "  <tbody>\n",
              "    <tr>\n",
              "      <th>0</th>\n",
              "      <td>1rgnBhdG2JDFTbYkYRZAku</td>\n",
              "      <td>0.68800</td>\n",
              "      <td>0.825</td>\n",
              "      <td>0.593</td>\n",
              "      <td>0.000161</td>\n",
              "      <td>0.1700</td>\n",
              "      <td>-6.401</td>\n",
              "      <td>0.0988</td>\n",
              "      <td>0.540</td>\n",
              "    </tr>\n",
              "    <tr>\n",
              "      <th>1</th>\n",
              "      <td>21jGcNKet2qwijlDFuPiPb</td>\n",
              "      <td>0.19200</td>\n",
              "      <td>0.695</td>\n",
              "      <td>0.762</td>\n",
              "      <td>0.002440</td>\n",
              "      <td>0.0863</td>\n",
              "      <td>-3.497</td>\n",
              "      <td>0.0395</td>\n",
              "      <td>0.553</td>\n",
              "    </tr>\n",
              "    <tr>\n",
              "      <th>2</th>\n",
              "      <td>2b8fOow8UzyDFAE27YhOZM</td>\n",
              "      <td>0.83700</td>\n",
              "      <td>0.764</td>\n",
              "      <td>0.320</td>\n",
              "      <td>0.000000</td>\n",
              "      <td>0.0822</td>\n",
              "      <td>-7.209</td>\n",
              "      <td>0.0546</td>\n",
              "      <td>0.575</td>\n",
              "    </tr>\n",
              "    <tr>\n",
              "      <th>3</th>\n",
              "      <td>696DnlkuDOXcMAnKlTgXXK</td>\n",
              "      <td>0.05220</td>\n",
              "      <td>0.621</td>\n",
              "      <td>0.601</td>\n",
              "      <td>0.000000</td>\n",
              "      <td>0.4600</td>\n",
              "      <td>-5.616</td>\n",
              "      <td>0.1480</td>\n",
              "      <td>0.457</td>\n",
              "    </tr>\n",
              "    <tr>\n",
              "      <th>4</th>\n",
              "      <td>57vxBYXtHMk6H1aD29V7PU</td>\n",
              "      <td>0.00632</td>\n",
              "      <td>0.531</td>\n",
              "      <td>0.750</td>\n",
              "      <td>0.000076</td>\n",
              "      <td>0.1170</td>\n",
              "      <td>-5.831</td>\n",
              "      <td>0.1110</td>\n",
              "      <td>0.198</td>\n",
              "    </tr>\n",
              "  </tbody>\n",
              "</table>\n",
              "</div>"
            ],
            "text/plain": [
              "                  song_id  acousticness  ...  speechiness  valence\n",
              "0  1rgnBhdG2JDFTbYkYRZAku       0.68800  ...       0.0988    0.540\n",
              "1  21jGcNKet2qwijlDFuPiPb       0.19200  ...       0.0395    0.553\n",
              "2  2b8fOow8UzyDFAE27YhOZM       0.83700  ...       0.0546    0.575\n",
              "3  696DnlkuDOXcMAnKlTgXXK       0.05220  ...       0.1480    0.457\n",
              "4  57vxBYXtHMk6H1aD29V7PU       0.00632  ...       0.1110    0.198\n",
              "\n",
              "[5 rows x 9 columns]"
            ]
          },
          "metadata": {
            "tags": []
          },
          "execution_count": 19
        }
      ]
    },
    {
      "cell_type": "markdown",
      "metadata": {
        "id": "IANyfkl7yfq7",
        "colab_type": "text"
      },
      "source": [
        "#### Merge songs_df into global_chart"
      ]
    },
    {
      "cell_type": "code",
      "metadata": {
        "colab_type": "code",
        "id": "9AhZEWuPkM2E",
        "colab": {}
      },
      "source": [
        "\"\"\"\n",
        "Becuase there are songs in multiple countries' chart\n",
        "No unique key to merge, so concatenate dataframes now.\n",
        "TTD: It is based on index, which is vulnerable. So need a fix to create Unique Keys.\n",
        "\"\"\"\n",
        "global_chart = pd.concat([global_chart, songs_df], axis = 1)\n",
        "global_chart = global_chart.loc[:,~global_chart.columns.duplicated()]"
      ],
      "execution_count": 0,
      "outputs": []
    },
    {
      "cell_type": "code",
      "metadata": {
        "colab_type": "code",
        "id": "zasPDRBPeCRG",
        "outputId": "65ee6b83-83a6-4e27-943d-6670dbcf0699",
        "colab": {
          "base_uri": "https://localhost:8080/",
          "height": 34
        }
      },
      "source": [
        "global_chart.shape"
      ],
      "execution_count": 0,
      "outputs": [
        {
          "output_type": "execute_result",
          "data": {
            "text/plain": [
              "(3100, 20)"
            ]
          },
          "metadata": {
            "tags": []
          },
          "execution_count": 21
        }
      ]
    },
    {
      "cell_type": "markdown",
      "metadata": {
        "id": "WrCqk8khyfrC",
        "colab_type": "text"
      },
      "source": [
        "#### Collect artist information"
      ]
    },
    {
      "cell_type": "code",
      "metadata": {
        "colab_type": "code",
        "id": "aqRqxd0hgIWL",
        "outputId": "6f01ee0e-eedf-43af-f16f-7d7d00487a71",
        "colab": {
          "base_uri": "https://localhost:8080/",
          "height": 204
        }
      },
      "source": [
        "_columns = ['artist_id', 'genre', 'artist_popularity', 'followers']\n",
        "artists_df = pd.DataFrame(columns = _columns)\n",
        "\n",
        "for x in return_ids('artist_id', 50):\n",
        "    \n",
        "    artists_features = []\n",
        "    \n",
        "    artist_infos = spotify.artists(x)\n",
        "\n",
        "    for artist_info in artist_infos['artists']:\n",
        "        artist_features = {'artist_id': '', 'genre': '', 'artist_popularity': 0, 'followers': 0}\n",
        "        artist_features['artist_id'] = artist_info['id']\n",
        "        try:\n",
        "            artist_features['genre'] = artist_info['genres'][0].split(' ')[0]\n",
        "        except:\n",
        "            # TTD : Searching Genre from google? \n",
        "            artist_features['genre'] = None\n",
        "            #print(artist_info['genres'], artist_info['name'])\n",
        "        artist_features['artist_popularity'] = artist_info['popularity']\n",
        "        artist_features['followers'] = artist_info['followers']['total']\n",
        "        \n",
        "        artists_features.append(artist_features)\n",
        "    \n",
        "    temp_artists_df = pd.DataFrame(artists_features, columns = _columns)\n",
        "    artists_df = pd.concat([artists_df, temp_artists_df], ignore_index = True)\n",
        "\n",
        "artists_df.head(5)"
      ],
      "execution_count": 0,
      "outputs": [
        {
          "output_type": "execute_result",
          "data": {
            "text/html": [
              "<div>\n",
              "<style scoped>\n",
              "    .dataframe tbody tr th:only-of-type {\n",
              "        vertical-align: middle;\n",
              "    }\n",
              "\n",
              "    .dataframe tbody tr th {\n",
              "        vertical-align: top;\n",
              "    }\n",
              "\n",
              "    .dataframe thead th {\n",
              "        text-align: right;\n",
              "    }\n",
              "</style>\n",
              "<table border=\"1\" class=\"dataframe\">\n",
              "  <thead>\n",
              "    <tr style=\"text-align: right;\">\n",
              "      <th></th>\n",
              "      <th>artist_id</th>\n",
              "      <th>genre</th>\n",
              "      <th>artist_popularity</th>\n",
              "      <th>followers</th>\n",
              "    </tr>\n",
              "  </thead>\n",
              "  <tbody>\n",
              "    <tr>\n",
              "      <th>0</th>\n",
              "      <td>2NjfBq1NflQcKSeiDooVjY</td>\n",
              "      <td>australian</td>\n",
              "      <td>90</td>\n",
              "      <td>280508</td>\n",
              "    </tr>\n",
              "    <tr>\n",
              "      <th>1</th>\n",
              "      <td>246dkjvS1zLTtiykXe5h60</td>\n",
              "      <td>dfw</td>\n",
              "      <td>100</td>\n",
              "      <td>19797863</td>\n",
              "    </tr>\n",
              "    <tr>\n",
              "      <th>2</th>\n",
              "      <td>04gDigrS5kc9YWfZHwBETP</td>\n",
              "      <td>pop</td>\n",
              "      <td>93</td>\n",
              "      <td>21014566</td>\n",
              "    </tr>\n",
              "    <tr>\n",
              "      <th>3</th>\n",
              "      <td>0vRvGUQVUjytro0xpb26bs</td>\n",
              "      <td>pop</td>\n",
              "      <td>86</td>\n",
              "      <td>113407</td>\n",
              "    </tr>\n",
              "    <tr>\n",
              "      <th>4</th>\n",
              "      <td>1Xyo4u8uXC1ZmMpatF05PJ</td>\n",
              "      <td>canadian</td>\n",
              "      <td>93</td>\n",
              "      <td>17814954</td>\n",
              "    </tr>\n",
              "  </tbody>\n",
              "</table>\n",
              "</div>"
            ],
            "text/plain": [
              "                artist_id       genre artist_popularity followers\n",
              "0  2NjfBq1NflQcKSeiDooVjY  australian                90    280508\n",
              "1  246dkjvS1zLTtiykXe5h60         dfw               100  19797863\n",
              "2  04gDigrS5kc9YWfZHwBETP         pop                93  21014566\n",
              "3  0vRvGUQVUjytro0xpb26bs         pop                86    113407\n",
              "4  1Xyo4u8uXC1ZmMpatF05PJ    canadian                93  17814954"
            ]
          },
          "metadata": {
            "tags": []
          },
          "execution_count": 22
        }
      ]
    },
    {
      "cell_type": "markdown",
      "metadata": {
        "id": "jyxEUKc9yfrE",
        "colab_type": "text"
      },
      "source": [
        "#### Merge artist_df into global_chart"
      ]
    },
    {
      "cell_type": "code",
      "metadata": {
        "colab_type": "code",
        "id": "Sk7uJC6J4flP",
        "colab": {}
      },
      "source": [
        "global_chart = pd.concat([global_chart, artists_df], axis = 1)\n",
        "global_chart = global_chart.loc[:,~global_chart.columns.duplicated()]"
      ],
      "execution_count": 0,
      "outputs": []
    },
    {
      "cell_type": "code",
      "metadata": {
        "colab_type": "code",
        "id": "OoKgRi_C4khR",
        "outputId": "4ce98cf6-564f-4c74-c38e-4555d6744bf7",
        "colab": {
          "base_uri": "https://localhost:8080/",
          "height": 309
        }
      },
      "source": [
        "global_chart.head(5)"
      ],
      "execution_count": 0,
      "outputs": [
        {
          "output_type": "execute_result",
          "data": {
            "text/html": [
              "<div>\n",
              "<style scoped>\n",
              "    .dataframe tbody tr th:only-of-type {\n",
              "        vertical-align: middle;\n",
              "    }\n",
              "\n",
              "    .dataframe tbody tr th {\n",
              "        vertical-align: top;\n",
              "    }\n",
              "\n",
              "    .dataframe thead th {\n",
              "        text-align: right;\n",
              "    }\n",
              "</style>\n",
              "<table border=\"1\" class=\"dataframe\">\n",
              "  <thead>\n",
              "    <tr style=\"text-align: right;\">\n",
              "      <th></th>\n",
              "      <th>continent</th>\n",
              "      <th>country</th>\n",
              "      <th>rank</th>\n",
              "      <th>song</th>\n",
              "      <th>artist</th>\n",
              "      <th>album</th>\n",
              "      <th>release_date</th>\n",
              "      <th>song_popularity</th>\n",
              "      <th>song_id</th>\n",
              "      <th>artist_id</th>\n",
              "      <th>album_id</th>\n",
              "      <th>date</th>\n",
              "      <th>acousticness</th>\n",
              "      <th>danceability</th>\n",
              "      <th>energy</th>\n",
              "      <th>instrumentalness</th>\n",
              "      <th>liveness</th>\n",
              "      <th>loudness</th>\n",
              "      <th>speechiness</th>\n",
              "      <th>valence</th>\n",
              "      <th>genre</th>\n",
              "      <th>artist_popularity</th>\n",
              "      <th>followers</th>\n",
              "    </tr>\n",
              "  </thead>\n",
              "  <tbody>\n",
              "    <tr>\n",
              "      <th>0</th>\n",
              "      <td>Africa</td>\n",
              "      <td>South Africa</td>\n",
              "      <td>1</td>\n",
              "      <td>Dance Monkey</td>\n",
              "      <td>Tones and I</td>\n",
              "      <td>Dance Monkey</td>\n",
              "      <td>2019-05-10</td>\n",
              "      <td>81</td>\n",
              "      <td>1rgnBhdG2JDFTbYkYRZAku</td>\n",
              "      <td>2NjfBq1NflQcKSeiDooVjY</td>\n",
              "      <td>31IDBea3eEs57a0joX6TjN</td>\n",
              "      <td>2019-12-03</td>\n",
              "      <td>0.68800</td>\n",
              "      <td>0.825</td>\n",
              "      <td>0.593</td>\n",
              "      <td>0.000161</td>\n",
              "      <td>0.1700</td>\n",
              "      <td>-6.401</td>\n",
              "      <td>0.0988</td>\n",
              "      <td>0.540</td>\n",
              "      <td>australian</td>\n",
              "      <td>90</td>\n",
              "      <td>280508</td>\n",
              "    </tr>\n",
              "    <tr>\n",
              "      <th>1</th>\n",
              "      <td>Africa</td>\n",
              "      <td>South Africa</td>\n",
              "      <td>2</td>\n",
              "      <td>Circles</td>\n",
              "      <td>Post Malone</td>\n",
              "      <td>Hollywood's Bleeding</td>\n",
              "      <td>2019-09-06</td>\n",
              "      <td>99</td>\n",
              "      <td>21jGcNKet2qwijlDFuPiPb</td>\n",
              "      <td>246dkjvS1zLTtiykXe5h60</td>\n",
              "      <td>4g1ZRSobMefqF6nelkgibi</td>\n",
              "      <td>2019-12-03</td>\n",
              "      <td>0.19200</td>\n",
              "      <td>0.695</td>\n",
              "      <td>0.762</td>\n",
              "      <td>0.002440</td>\n",
              "      <td>0.0863</td>\n",
              "      <td>-3.497</td>\n",
              "      <td>0.0395</td>\n",
              "      <td>0.553</td>\n",
              "      <td>dfw</td>\n",
              "      <td>100</td>\n",
              "      <td>19797863</td>\n",
              "    </tr>\n",
              "    <tr>\n",
              "      <th>2</th>\n",
              "      <td>Africa</td>\n",
              "      <td>South Africa</td>\n",
              "      <td>3</td>\n",
              "      <td>Memories</td>\n",
              "      <td>Maroon 5</td>\n",
              "      <td>Memories</td>\n",
              "      <td>2019-09-20</td>\n",
              "      <td>100</td>\n",
              "      <td>2b8fOow8UzyDFAE27YhOZM</td>\n",
              "      <td>04gDigrS5kc9YWfZHwBETP</td>\n",
              "      <td>3nR9B40hYLKLcR0Eph3Goc</td>\n",
              "      <td>2019-12-03</td>\n",
              "      <td>0.83700</td>\n",
              "      <td>0.764</td>\n",
              "      <td>0.320</td>\n",
              "      <td>0.000000</td>\n",
              "      <td>0.0822</td>\n",
              "      <td>-7.209</td>\n",
              "      <td>0.0546</td>\n",
              "      <td>0.575</td>\n",
              "      <td>pop</td>\n",
              "      <td>93</td>\n",
              "      <td>21014566</td>\n",
              "    </tr>\n",
              "    <tr>\n",
              "      <th>3</th>\n",
              "      <td>Africa</td>\n",
              "      <td>South Africa</td>\n",
              "      <td>4</td>\n",
              "      <td>ROXANNE</td>\n",
              "      <td>Arizona Zervas</td>\n",
              "      <td>ROXANNE</td>\n",
              "      <td>2019-10-10</td>\n",
              "      <td>95</td>\n",
              "      <td>696DnlkuDOXcMAnKlTgXXK</td>\n",
              "      <td>0vRvGUQVUjytro0xpb26bs</td>\n",
              "      <td>6HJDrXs0hpebaRFKA1sF90</td>\n",
              "      <td>2019-12-03</td>\n",
              "      <td>0.05220</td>\n",
              "      <td>0.621</td>\n",
              "      <td>0.601</td>\n",
              "      <td>0.000000</td>\n",
              "      <td>0.4600</td>\n",
              "      <td>-5.616</td>\n",
              "      <td>0.1480</td>\n",
              "      <td>0.457</td>\n",
              "      <td>pop</td>\n",
              "      <td>86</td>\n",
              "      <td>113407</td>\n",
              "    </tr>\n",
              "    <tr>\n",
              "      <th>4</th>\n",
              "      <td>Africa</td>\n",
              "      <td>South Africa</td>\n",
              "      <td>5</td>\n",
              "      <td>Heartless</td>\n",
              "      <td>The Weeknd</td>\n",
              "      <td>Heartless</td>\n",
              "      <td>2019-11-27</td>\n",
              "      <td>91</td>\n",
              "      <td>57vxBYXtHMk6H1aD29V7PU</td>\n",
              "      <td>1Xyo4u8uXC1ZmMpatF05PJ</td>\n",
              "      <td>7vRcickwa6GCfY1qKKe4lK</td>\n",
              "      <td>2019-12-03</td>\n",
              "      <td>0.00632</td>\n",
              "      <td>0.531</td>\n",
              "      <td>0.750</td>\n",
              "      <td>0.000076</td>\n",
              "      <td>0.1170</td>\n",
              "      <td>-5.831</td>\n",
              "      <td>0.1110</td>\n",
              "      <td>0.198</td>\n",
              "      <td>canadian</td>\n",
              "      <td>93</td>\n",
              "      <td>17814954</td>\n",
              "    </tr>\n",
              "  </tbody>\n",
              "</table>\n",
              "</div>"
            ],
            "text/plain": [
              "  continent       country rank  ...       genre artist_popularity followers\n",
              "0    Africa  South Africa    1  ...  australian                90    280508\n",
              "1    Africa  South Africa    2  ...         dfw               100  19797863\n",
              "2    Africa  South Africa    3  ...         pop                93  21014566\n",
              "3    Africa  South Africa    4  ...         pop                86    113407\n",
              "4    Africa  South Africa    5  ...    canadian                93  17814954\n",
              "\n",
              "[5 rows x 23 columns]"
            ]
          },
          "metadata": {
            "tags": []
          },
          "execution_count": 24
        }
      ]
    },
    {
      "cell_type": "markdown",
      "metadata": {
        "id": "C8P4OHYEyfrI",
        "colab_type": "text"
      },
      "source": [
        "#### Collect album information"
      ]
    },
    {
      "cell_type": "code",
      "metadata": {
        "colab_type": "code",
        "id": "jjcuKYjpPOmp",
        "outputId": "5bc30216-6fe5-4303-ef79-4e6e2eac8e19",
        "colab": {
          "base_uri": "https://localhost:8080/",
          "height": 85
        }
      },
      "source": [
        "_columns = ['album_id', 'album_popularity']\n",
        "albums_df = pd.DataFrame(columns = _columns)\n",
        "\n",
        "for x in return_ids('album_id', 20):\n",
        "    \n",
        "    albums_features = []\n",
        "    albums_infos = spotify.albums(x)\n",
        "\n",
        "    for album_info in albums_infos['albums']:\n",
        "        album_features = {'album_id': '', 'album_popularity': 0}\n",
        "        album_features['album_id'] = album_info['id']\n",
        "        album_features['album_popularity'] = album_info['popularity']\n",
        "        \n",
        "        albums_features.append(album_features)\n",
        "    \n",
        "    temp_albums_df = pd.DataFrame(albums_features, columns = _columns)\n",
        "    albums_df = pd.concat([albums_df, temp_albums_df], ignore_index = True)"
      ],
      "execution_count": 0,
      "outputs": [
        {
          "output_type": "stream",
          "text": [
            "retrying ...1secs\n",
            "retrying ...1secs\n",
            "retrying ...2secs\n",
            "retrying ...1secs\n"
          ],
          "name": "stdout"
        }
      ]
    },
    {
      "cell_type": "code",
      "metadata": {
        "colab_type": "code",
        "id": "01aKvymx-RUq",
        "outputId": "543d0073-217f-441f-d4da-cf1185178364",
        "colab": {
          "base_uri": "https://localhost:8080/",
          "height": 204
        }
      },
      "source": [
        "albums_df.head(5)"
      ],
      "execution_count": 0,
      "outputs": [
        {
          "output_type": "execute_result",
          "data": {
            "text/html": [
              "<div>\n",
              "<style scoped>\n",
              "    .dataframe tbody tr th:only-of-type {\n",
              "        vertical-align: middle;\n",
              "    }\n",
              "\n",
              "    .dataframe tbody tr th {\n",
              "        vertical-align: top;\n",
              "    }\n",
              "\n",
              "    .dataframe thead th {\n",
              "        text-align: right;\n",
              "    }\n",
              "</style>\n",
              "<table border=\"1\" class=\"dataframe\">\n",
              "  <thead>\n",
              "    <tr style=\"text-align: right;\">\n",
              "      <th></th>\n",
              "      <th>album_id</th>\n",
              "      <th>album_popularity</th>\n",
              "    </tr>\n",
              "  </thead>\n",
              "  <tbody>\n",
              "    <tr>\n",
              "      <th>0</th>\n",
              "      <td>31IDBea3eEs57a0joX6TjN</td>\n",
              "      <td>72</td>\n",
              "    </tr>\n",
              "    <tr>\n",
              "      <th>1</th>\n",
              "      <td>4g1ZRSobMefqF6nelkgibi</td>\n",
              "      <td>100</td>\n",
              "    </tr>\n",
              "    <tr>\n",
              "      <th>2</th>\n",
              "      <td>3nR9B40hYLKLcR0Eph3Goc</td>\n",
              "      <td>90</td>\n",
              "    </tr>\n",
              "    <tr>\n",
              "      <th>3</th>\n",
              "      <td>6HJDrXs0hpebaRFKA1sF90</td>\n",
              "      <td>86</td>\n",
              "    </tr>\n",
              "    <tr>\n",
              "      <th>4</th>\n",
              "      <td>7vRcickwa6GCfY1qKKe4lK</td>\n",
              "      <td>81</td>\n",
              "    </tr>\n",
              "  </tbody>\n",
              "</table>\n",
              "</div>"
            ],
            "text/plain": [
              "                 album_id album_popularity\n",
              "0  31IDBea3eEs57a0joX6TjN               72\n",
              "1  4g1ZRSobMefqF6nelkgibi              100\n",
              "2  3nR9B40hYLKLcR0Eph3Goc               90\n",
              "3  6HJDrXs0hpebaRFKA1sF90               86\n",
              "4  7vRcickwa6GCfY1qKKe4lK               81"
            ]
          },
          "metadata": {
            "tags": []
          },
          "execution_count": 26
        }
      ]
    },
    {
      "cell_type": "markdown",
      "metadata": {
        "id": "zEgrITvFyfrL",
        "colab_type": "text"
      },
      "source": [
        "#### Merge albums_df into global_chart"
      ]
    },
    {
      "cell_type": "code",
      "metadata": {
        "colab_type": "code",
        "id": "Xo4Pzjxm8DHa",
        "colab": {}
      },
      "source": [
        "global_chart = pd.concat([global_chart, albums_df], axis = 1)\n",
        "global_chart = global_chart.loc[:,~global_chart.columns.duplicated()]"
      ],
      "execution_count": 0,
      "outputs": []
    },
    {
      "cell_type": "code",
      "metadata": {
        "colab_type": "code",
        "id": "k6I5Xfrs97Gc",
        "outputId": "eff35567-2d2b-48c4-a630-66050c7f1dce",
        "scrolled": false,
        "colab": {
          "base_uri": "https://localhost:8080/",
          "height": 309
        }
      },
      "source": [
        "global_chart[global_chart['country'] == 'United States'].head(5)"
      ],
      "execution_count": 0,
      "outputs": [
        {
          "output_type": "execute_result",
          "data": {
            "text/html": [
              "<div>\n",
              "<style scoped>\n",
              "    .dataframe tbody tr th:only-of-type {\n",
              "        vertical-align: middle;\n",
              "    }\n",
              "\n",
              "    .dataframe tbody tr th {\n",
              "        vertical-align: top;\n",
              "    }\n",
              "\n",
              "    .dataframe thead th {\n",
              "        text-align: right;\n",
              "    }\n",
              "</style>\n",
              "<table border=\"1\" class=\"dataframe\">\n",
              "  <thead>\n",
              "    <tr style=\"text-align: right;\">\n",
              "      <th></th>\n",
              "      <th>continent</th>\n",
              "      <th>country</th>\n",
              "      <th>rank</th>\n",
              "      <th>song</th>\n",
              "      <th>artist</th>\n",
              "      <th>album</th>\n",
              "      <th>release_date</th>\n",
              "      <th>song_popularity</th>\n",
              "      <th>song_id</th>\n",
              "      <th>artist_id</th>\n",
              "      <th>album_id</th>\n",
              "      <th>date</th>\n",
              "      <th>acousticness</th>\n",
              "      <th>danceability</th>\n",
              "      <th>energy</th>\n",
              "      <th>instrumentalness</th>\n",
              "      <th>liveness</th>\n",
              "      <th>loudness</th>\n",
              "      <th>speechiness</th>\n",
              "      <th>valence</th>\n",
              "      <th>genre</th>\n",
              "      <th>artist_popularity</th>\n",
              "      <th>followers</th>\n",
              "      <th>album_popularity</th>\n",
              "    </tr>\n",
              "  </thead>\n",
              "  <tbody>\n",
              "    <tr>\n",
              "      <th>2500</th>\n",
              "      <td>North America</td>\n",
              "      <td>United States</td>\n",
              "      <td>1</td>\n",
              "      <td>Heartless</td>\n",
              "      <td>The Weeknd</td>\n",
              "      <td>Heartless</td>\n",
              "      <td>2019-11-27</td>\n",
              "      <td>91</td>\n",
              "      <td>57vxBYXtHMk6H1aD29V7PU</td>\n",
              "      <td>1Xyo4u8uXC1ZmMpatF05PJ</td>\n",
              "      <td>7vRcickwa6GCfY1qKKe4lK</td>\n",
              "      <td>2019-12-03</td>\n",
              "      <td>0.00632</td>\n",
              "      <td>0.531</td>\n",
              "      <td>0.750</td>\n",
              "      <td>0.000076</td>\n",
              "      <td>0.1170</td>\n",
              "      <td>-5.831</td>\n",
              "      <td>0.1110</td>\n",
              "      <td>0.198</td>\n",
              "      <td>canadian</td>\n",
              "      <td>93</td>\n",
              "      <td>17814954</td>\n",
              "      <td>81</td>\n",
              "    </tr>\n",
              "    <tr>\n",
              "      <th>2501</th>\n",
              "      <td>North America</td>\n",
              "      <td>United States</td>\n",
              "      <td>2</td>\n",
              "      <td>ROXANNE</td>\n",
              "      <td>Arizona Zervas</td>\n",
              "      <td>ROXANNE</td>\n",
              "      <td>2019-10-10</td>\n",
              "      <td>95</td>\n",
              "      <td>696DnlkuDOXcMAnKlTgXXK</td>\n",
              "      <td>0vRvGUQVUjytro0xpb26bs</td>\n",
              "      <td>6HJDrXs0hpebaRFKA1sF90</td>\n",
              "      <td>2019-12-03</td>\n",
              "      <td>0.05220</td>\n",
              "      <td>0.621</td>\n",
              "      <td>0.601</td>\n",
              "      <td>0.000000</td>\n",
              "      <td>0.4600</td>\n",
              "      <td>-5.616</td>\n",
              "      <td>0.1480</td>\n",
              "      <td>0.457</td>\n",
              "      <td>pop</td>\n",
              "      <td>86</td>\n",
              "      <td>113407</td>\n",
              "      <td>86</td>\n",
              "    </tr>\n",
              "    <tr>\n",
              "      <th>2502</th>\n",
              "      <td>North America</td>\n",
              "      <td>United States</td>\n",
              "      <td>3</td>\n",
              "      <td>Blinding Lights</td>\n",
              "      <td>The Weeknd</td>\n",
              "      <td>Blinding Lights</td>\n",
              "      <td>2019-11-29</td>\n",
              "      <td>83</td>\n",
              "      <td>0sf12qNH5qcw8qpgymFOqD</td>\n",
              "      <td>1Xyo4u8uXC1ZmMpatF05PJ</td>\n",
              "      <td>2ZfHkwHuoAZrlz7RMj0PDz</td>\n",
              "      <td>2019-12-03</td>\n",
              "      <td>0.00148</td>\n",
              "      <td>0.504</td>\n",
              "      <td>0.795</td>\n",
              "      <td>0.000155</td>\n",
              "      <td>0.0902</td>\n",
              "      <td>-4.118</td>\n",
              "      <td>0.0703</td>\n",
              "      <td>0.379</td>\n",
              "      <td>canadian</td>\n",
              "      <td>93</td>\n",
              "      <td>17814954</td>\n",
              "      <td>74</td>\n",
              "    </tr>\n",
              "    <tr>\n",
              "      <th>2503</th>\n",
              "      <td>North America</td>\n",
              "      <td>United States</td>\n",
              "      <td>4</td>\n",
              "      <td>Circles</td>\n",
              "      <td>Post Malone</td>\n",
              "      <td>Hollywood's Bleeding</td>\n",
              "      <td>2019-09-06</td>\n",
              "      <td>99</td>\n",
              "      <td>21jGcNKet2qwijlDFuPiPb</td>\n",
              "      <td>246dkjvS1zLTtiykXe5h60</td>\n",
              "      <td>4g1ZRSobMefqF6nelkgibi</td>\n",
              "      <td>2019-12-03</td>\n",
              "      <td>0.19200</td>\n",
              "      <td>0.695</td>\n",
              "      <td>0.762</td>\n",
              "      <td>0.002440</td>\n",
              "      <td>0.0863</td>\n",
              "      <td>-3.497</td>\n",
              "      <td>0.0395</td>\n",
              "      <td>0.553</td>\n",
              "      <td>dfw</td>\n",
              "      <td>100</td>\n",
              "      <td>19797863</td>\n",
              "      <td>100</td>\n",
              "    </tr>\n",
              "    <tr>\n",
              "      <th>2504</th>\n",
              "      <td>North America</td>\n",
              "      <td>United States</td>\n",
              "      <td>5</td>\n",
              "      <td>everything i wanted</td>\n",
              "      <td>Billie Eilish</td>\n",
              "      <td>everything i wanted</td>\n",
              "      <td>2019-11-13</td>\n",
              "      <td>97</td>\n",
              "      <td>3ZCTVFBt2Brf31RLEnCkWJ</td>\n",
              "      <td>6qqNVTkY8uBg9cP3Jd7DAH</td>\n",
              "      <td>4i3rAwPw7Ln2YrKDusaWyT</td>\n",
              "      <td>2019-12-03</td>\n",
              "      <td>0.90200</td>\n",
              "      <td>0.704</td>\n",
              "      <td>0.225</td>\n",
              "      <td>0.657000</td>\n",
              "      <td>0.1060</td>\n",
              "      <td>-14.454</td>\n",
              "      <td>0.0994</td>\n",
              "      <td>0.243</td>\n",
              "      <td>electropop</td>\n",
              "      <td>97</td>\n",
              "      <td>16445261</td>\n",
              "      <td>88</td>\n",
              "    </tr>\n",
              "  </tbody>\n",
              "</table>\n",
              "</div>"
            ],
            "text/plain": [
              "          continent        country  ... followers album_popularity\n",
              "2500  North America  United States  ...  17814954               81\n",
              "2501  North America  United States  ...    113407               86\n",
              "2502  North America  United States  ...  17814954               74\n",
              "2503  North America  United States  ...  19797863              100\n",
              "2504  North America  United States  ...  16445261               88\n",
              "\n",
              "[5 rows x 24 columns]"
            ]
          },
          "metadata": {
            "tags": []
          },
          "execution_count": 28
        }
      ]
    },
    {
      "cell_type": "markdown",
      "metadata": {
        "id": "5hDXdRM8yfrQ",
        "colab_type": "text"
      },
      "source": [
        "#### Reorder Columns"
      ]
    },
    {
      "cell_type": "code",
      "metadata": {
        "colab_type": "code",
        "id": "mx9rnkxBEj7T",
        "colab": {}
      },
      "source": [
        "cols = ['date',\n",
        " 'continent',\n",
        " 'country',\n",
        " 'rank',\n",
        " 'song',\n",
        " 'artist',\n",
        " 'album',\n",
        " 'genre',\n",
        " 'followers',\n",
        " 'song_popularity',\n",
        " 'artist_popularity',\n",
        " 'album_popularity',\n",
        " 'release_date',\n",
        " 'acousticness',\n",
        " 'danceability',\n",
        " 'energy',\n",
        " 'instrumentalness',\n",
        " 'liveness',\n",
        " 'loudness',\n",
        " 'speechiness',\n",
        " 'valence',\n",
        " 'song_id',\n",
        " 'artist_id',\n",
        " 'album_id']\n",
        "\n",
        "global_chart = global_chart[cols]"
      ],
      "execution_count": 0,
      "outputs": []
    },
    {
      "cell_type": "code",
      "metadata": {
        "colab_type": "code",
        "id": "AJerJeeWeRLt",
        "colab": {}
      },
      "source": [
        "#### Saving dataframe as csv file"
      ],
      "execution_count": 0,
      "outputs": []
    },
    {
      "cell_type": "code",
      "metadata": {
        "colab_type": "code",
        "id": "l7XJ6hAqCg37",
        "outputId": "5fe6bbcc-b610-4f89-b3ae-b300d2717aae",
        "colab": {}
      },
      "source": [
        "# Incase of working on Google Colab\n",
        "\"\"\"\n",
        "from google.colab import files\n",
        "\n",
        "global_chart.to_csv('spotify_top50_chart.csv')\n",
        "files.download('spotify_top50_chart.csv')\n",
        "\"\"\""
      ],
      "execution_count": 0,
      "outputs": [
        {
          "output_type": "execute_result",
          "data": {
            "text/plain": [
              "\"\\nfrom google.colab import files\\n\\nglobal_chart.to_csv('spotify_top50_chart.csv')\\nfiles.download('spotify_top50_chart.csv')\\n\""
            ]
          },
          "metadata": {
            "tags": []
          },
          "execution_count": 29
        }
      ]
    },
    {
      "cell_type": "code",
      "metadata": {
        "id": "lE6Gkj5NyfrZ",
        "colab_type": "code",
        "colab": {}
      },
      "source": [
        "# Incase of working on local jupyter notebook or py file\n",
        "global_chart.to_csv('spotify_top50_chart.csv')"
      ],
      "execution_count": 0,
      "outputs": []
    }
  ]
}